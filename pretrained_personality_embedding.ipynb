{
  "nbformat": 4,
  "nbformat_minor": 0,
  "metadata": {
    "colab": {
      "name": "pretrained_personality_embedding.ipynb",
      "provenance": [],
      "include_colab_link": true
    },
    "kernelspec": {
      "name": "python3",
      "display_name": "Python 3"
    },
    "widgets": {
      "application/vnd.jupyter.widget-state+json": {
        "ebd04f01c38c43e38e5092c6ea10ca5b": {
          "model_module": "@jupyter-widgets/controls",
          "model_name": "HBoxModel",
          "state": {
            "_view_name": "HBoxView",
            "_dom_classes": [],
            "_model_name": "HBoxModel",
            "_view_module": "@jupyter-widgets/controls",
            "_model_module_version": "1.5.0",
            "_view_count": null,
            "_view_module_version": "1.5.0",
            "box_style": "",
            "layout": "IPY_MODEL_601bca32f66d4d75a85a50143477438f",
            "_model_module": "@jupyter-widgets/controls",
            "children": [
              "IPY_MODEL_00f3ca64b32149788df92fd04e2429a4",
              "IPY_MODEL_efe423413a7a4b299b1f2f4cf86e8012"
            ]
          }
        },
        "601bca32f66d4d75a85a50143477438f": {
          "model_module": "@jupyter-widgets/base",
          "model_name": "LayoutModel",
          "state": {
            "_view_name": "LayoutView",
            "grid_template_rows": null,
            "right": null,
            "justify_content": null,
            "_view_module": "@jupyter-widgets/base",
            "overflow": null,
            "_model_module_version": "1.2.0",
            "_view_count": null,
            "flex_flow": null,
            "width": null,
            "min_width": null,
            "border": null,
            "align_items": null,
            "bottom": null,
            "_model_module": "@jupyter-widgets/base",
            "top": null,
            "grid_column": null,
            "overflow_y": null,
            "overflow_x": null,
            "grid_auto_flow": null,
            "grid_area": null,
            "grid_template_columns": null,
            "flex": null,
            "_model_name": "LayoutModel",
            "justify_items": null,
            "grid_row": null,
            "max_height": null,
            "align_content": null,
            "visibility": null,
            "align_self": null,
            "height": null,
            "min_height": null,
            "padding": null,
            "grid_auto_rows": null,
            "grid_gap": null,
            "max_width": null,
            "order": null,
            "_view_module_version": "1.2.0",
            "grid_template_areas": null,
            "object_position": null,
            "object_fit": null,
            "grid_auto_columns": null,
            "margin": null,
            "display": null,
            "left": null
          }
        },
        "00f3ca64b32149788df92fd04e2429a4": {
          "model_module": "@jupyter-widgets/controls",
          "model_name": "FloatProgressModel",
          "state": {
            "_view_name": "ProgressView",
            "style": "IPY_MODEL_ffcc3df421e740bc972027d80e6a1bfd",
            "_dom_classes": [],
            "description": "Batches: 100%",
            "_model_name": "FloatProgressModel",
            "bar_style": "success",
            "max": 1,
            "_view_module": "@jupyter-widgets/controls",
            "_model_module_version": "1.5.0",
            "value": 1,
            "_view_count": null,
            "_view_module_version": "1.5.0",
            "orientation": "horizontal",
            "min": 0,
            "description_tooltip": null,
            "_model_module": "@jupyter-widgets/controls",
            "layout": "IPY_MODEL_2860d9e9a9c84567aa62b805d0a73c42"
          }
        },
        "efe423413a7a4b299b1f2f4cf86e8012": {
          "model_module": "@jupyter-widgets/controls",
          "model_name": "HTMLModel",
          "state": {
            "_view_name": "HTMLView",
            "style": "IPY_MODEL_a177dcdfaa18439eaf6cb1a61830bee9",
            "_dom_classes": [],
            "description": "",
            "_model_name": "HTMLModel",
            "placeholder": "​",
            "_view_module": "@jupyter-widgets/controls",
            "_model_module_version": "1.5.0",
            "value": " 1/1 [00:01&lt;00:00,  1.56s/it]",
            "_view_count": null,
            "_view_module_version": "1.5.0",
            "description_tooltip": null,
            "_model_module": "@jupyter-widgets/controls",
            "layout": "IPY_MODEL_3bb08194140d4dd5beacb4e548f094af"
          }
        },
        "ffcc3df421e740bc972027d80e6a1bfd": {
          "model_module": "@jupyter-widgets/controls",
          "model_name": "ProgressStyleModel",
          "state": {
            "_view_name": "StyleView",
            "_model_name": "ProgressStyleModel",
            "description_width": "initial",
            "_view_module": "@jupyter-widgets/base",
            "_model_module_version": "1.5.0",
            "_view_count": null,
            "_view_module_version": "1.2.0",
            "bar_color": null,
            "_model_module": "@jupyter-widgets/controls"
          }
        },
        "2860d9e9a9c84567aa62b805d0a73c42": {
          "model_module": "@jupyter-widgets/base",
          "model_name": "LayoutModel",
          "state": {
            "_view_name": "LayoutView",
            "grid_template_rows": null,
            "right": null,
            "justify_content": null,
            "_view_module": "@jupyter-widgets/base",
            "overflow": null,
            "_model_module_version": "1.2.0",
            "_view_count": null,
            "flex_flow": null,
            "width": null,
            "min_width": null,
            "border": null,
            "align_items": null,
            "bottom": null,
            "_model_module": "@jupyter-widgets/base",
            "top": null,
            "grid_column": null,
            "overflow_y": null,
            "overflow_x": null,
            "grid_auto_flow": null,
            "grid_area": null,
            "grid_template_columns": null,
            "flex": null,
            "_model_name": "LayoutModel",
            "justify_items": null,
            "grid_row": null,
            "max_height": null,
            "align_content": null,
            "visibility": null,
            "align_self": null,
            "height": null,
            "min_height": null,
            "padding": null,
            "grid_auto_rows": null,
            "grid_gap": null,
            "max_width": null,
            "order": null,
            "_view_module_version": "1.2.0",
            "grid_template_areas": null,
            "object_position": null,
            "object_fit": null,
            "grid_auto_columns": null,
            "margin": null,
            "display": null,
            "left": null
          }
        },
        "a177dcdfaa18439eaf6cb1a61830bee9": {
          "model_module": "@jupyter-widgets/controls",
          "model_name": "DescriptionStyleModel",
          "state": {
            "_view_name": "StyleView",
            "_model_name": "DescriptionStyleModel",
            "description_width": "",
            "_view_module": "@jupyter-widgets/base",
            "_model_module_version": "1.5.0",
            "_view_count": null,
            "_view_module_version": "1.2.0",
            "_model_module": "@jupyter-widgets/controls"
          }
        },
        "3bb08194140d4dd5beacb4e548f094af": {
          "model_module": "@jupyter-widgets/base",
          "model_name": "LayoutModel",
          "state": {
            "_view_name": "LayoutView",
            "grid_template_rows": null,
            "right": null,
            "justify_content": null,
            "_view_module": "@jupyter-widgets/base",
            "overflow": null,
            "_model_module_version": "1.2.0",
            "_view_count": null,
            "flex_flow": null,
            "width": null,
            "min_width": null,
            "border": null,
            "align_items": null,
            "bottom": null,
            "_model_module": "@jupyter-widgets/base",
            "top": null,
            "grid_column": null,
            "overflow_y": null,
            "overflow_x": null,
            "grid_auto_flow": null,
            "grid_area": null,
            "grid_template_columns": null,
            "flex": null,
            "_model_name": "LayoutModel",
            "justify_items": null,
            "grid_row": null,
            "max_height": null,
            "align_content": null,
            "visibility": null,
            "align_self": null,
            "height": null,
            "min_height": null,
            "padding": null,
            "grid_auto_rows": null,
            "grid_gap": null,
            "max_width": null,
            "order": null,
            "_view_module_version": "1.2.0",
            "grid_template_areas": null,
            "object_position": null,
            "object_fit": null,
            "grid_auto_columns": null,
            "margin": null,
            "display": null,
            "left": null
          }
        }
      }
    }
  },
  "cells": [
    {
      "cell_type": "markdown",
      "metadata": {
        "id": "view-in-github",
        "colab_type": "text"
      },
      "source": [
        "<a href=\"https://colab.research.google.com/github/andcut/text2trait/blob/main/pretrained_personality_embedding.ipynb\" target=\"_parent\"><img src=\"https://colab.research.google.com/assets/colab-badge.svg\" alt=\"Open In Colab\"/></a>"
      ]
    },
    {
      "cell_type": "markdown",
      "metadata": {
        "id": "wahUr_bsnljs"
      },
      "source": [
        "This code was originally written by Andrew Cutler (andrew.d.cutler@gmail.com) to transform text into a 105 dimensional personality embedding. The process is text -> RoBERTa embedding -> personality embedding. This can then be used for down stream tasks such as clustering or supervised learning. For more info see [Language Modeling for Personality Prediction](https://open.bu.edu/handle/2144/41942).\n",
        "\n",
        "\n",
        "\n"
      ]
    },
    {
      "cell_type": "code",
      "metadata": {
        "id": "nISho0bznhgu"
      },
      "source": [
        "#install the sentence-transformers package https://github.com/UKPLab/sentence-transformers\n",
        "!pip install -U sentence-transformers\n",
        "\n",
        "from sentence_transformers import SentenceTransformer\n",
        "import pandas as pd"
      ],
      "execution_count": null,
      "outputs": []
    },
    {
      "cell_type": "code",
      "metadata": {
        "colab": {
          "base_uri": "https://localhost:8080/"
        },
        "id": "SwX6-9Mc1psH",
        "outputId": "bd3d7ad1-41f3-40a9-e39c-e8fbe33318f8"
      },
      "source": [
        "#download personality model\n",
        "!git clone https://github.com/andcut/text2trait.git\n",
        "!unzip text2trait/RoBERTa_to_IPIP100.zip"
      ],
      "execution_count": 4,
      "outputs": [
        {
          "output_type": "stream",
          "text": [
            "Cloning into 'text2trait'...\n",
            "remote: Enumerating objects: 6, done.\u001b[K\n",
            "remote: Counting objects:  16% (1/6)\u001b[K\rremote: Counting objects:  33% (2/6)\u001b[K\rremote: Counting objects:  50% (3/6)\u001b[K\rremote: Counting objects:  66% (4/6)\u001b[K\rremote: Counting objects:  83% (5/6)\u001b[K\rremote: Counting objects: 100% (6/6)\u001b[K\rremote: Counting objects: 100% (6/6), done.\u001b[K\n",
            "remote: Compressing objects: 100% (5/5), done.\u001b[K\n",
            "remote: Total 6 (delta 0), reused 0 (delta 0), pack-reused 0\u001b[K\n",
            "Unpacking objects: 100% (6/6), done.\n"
          ],
          "name": "stdout"
        }
      ]
    },
    {
      "cell_type": "code",
      "metadata": {
        "id": "rhmBR7GYuNuK"
      },
      "source": [
        "#define roberta and the IPIP100 embedding head.\n",
        "from tensorflow import keras\n",
        "#will take a minute to download roberta-large\n",
        "roberta = SentenceTransformer('roberta-large-nli-stsb-mean-tokens')\n",
        "IPIP100 = keras.models.load_model(\"RoBERTa_to_IPIP100.h5\")"
      ],
      "execution_count": 16,
      "outputs": []
    },
    {
      "cell_type": "code",
      "metadata": {
        "id": "UmrACOAJpWL3",
        "colab": {
          "base_uri": "https://localhost:8080/",
          "height": 66,
          "referenced_widgets": [
            "ebd04f01c38c43e38e5092c6ea10ca5b",
            "601bca32f66d4d75a85a50143477438f",
            "00f3ca64b32149788df92fd04e2429a4",
            "efe423413a7a4b299b1f2f4cf86e8012",
            "ffcc3df421e740bc972027d80e6a1bfd",
            "2860d9e9a9c84567aa62b805d0a73c42",
            "a177dcdfaa18439eaf6cb1a61830bee9",
            "3bb08194140d4dd5beacb4e548f094af"
          ]
        },
        "outputId": "c0438d71-a8a5-4f14-fa39-6dd488795b22"
      },
      "source": [
        "##IMPORTANT##\n",
        "#docs should be a list of your text documents\n",
        "docs = [\"text number one\", \"country roads, take me home\", \"I like to party, I like to gamble\", \":((((\", \"In this essay I will...\"]\n",
        "\n",
        "#transforms text into vectors that are 1024 long. Might take a couple mins\n",
        "X_roberta = roberta.encode(docs, show_progress_bar = True, convert_to_numpy = True)\n",
        "\n",
        "#Transforms these 1024 general purpose language vectors to 105 personality-loaded dimensions\n",
        "X = IPIP100.predict(X_roberta)\n",
        "\n",
        "#y should be a list of labels. Here just some dummies so the code below will compile.\n",
        "y = [0]*len(docs)"
      ],
      "execution_count": 12,
      "outputs": [
        {
          "output_type": "display_data",
          "data": {
            "application/vnd.jupyter.widget-view+json": {
              "model_id": "ebd04f01c38c43e38e5092c6ea10ca5b",
              "version_minor": 0,
              "version_major": 2
            },
            "text/plain": [
              "HBox(children=(FloatProgress(value=0.0, description='Batches', max=1.0, style=ProgressStyle(description_width=…"
            ]
          },
          "metadata": {
            "tags": []
          }
        },
        {
          "output_type": "stream",
          "text": [
            "\n"
          ],
          "name": "stdout"
        }
      ]
    },
    {
      "cell_type": "markdown",
      "metadata": {
        "id": "VlD1Gb0mRb_8"
      },
      "source": [
        "Now that data is loaded as X (inputs) and y (outputs/labels), let's build a model and test how well y can be predicted from X. This will run much faster"
      ]
    },
    {
      "cell_type": "code",
      "metadata": {
        "id": "nQQfqk5W0-wK"
      },
      "source": [
        "from sklearn.model_selection import train_test_split\n",
        "from sklearn.linear_model import RidgeCV\n",
        "from sklearn import metrics\n",
        "import numpy as np\n",
        "\n",
        "R2_matrix = []\n",
        "for i in range(100):\n",
        "  #print(i)\n",
        "  (x_train, x_test, y_train, y_test) = train_test_split(X, y, train_size = 0.8, random_state = i)\n",
        "  model = RidgeCV(alphas = np.logspace(-2,3,1000), cv = None) #cv=None uses efficient-leave-one-out cross validation\n",
        "  model.fit(x_train,y_train)\n",
        "  y_pred = model.predict(x_test)\n",
        "  R2_matrix.append([metrics.r2_score(y_test,y_pred)])\n",
        "\n",
        "\n"
      ],
      "execution_count": null,
      "outputs": []
    },
    {
      "cell_type": "code",
      "metadata": {
        "id": "5fnFk2HQ-wkR"
      },
      "source": [
        "R2_matrix = np.array(R2_matrix)\n",
        "R2_mean = np.mean(R2_matrix)\n",
        "R2_std = np.std(R2_matrix)\n",
        "R2_median = np.median(R2_matrix)\n",
        "# Print the summary\n",
        "print(R2_mean, R2_std, R2_median)"
      ],
      "execution_count": null,
      "outputs": []
    },
    {
      "cell_type": "code",
      "metadata": {
        "id": "s4bvDRfn5b8S"
      },
      "source": [
        ""
      ],
      "execution_count": null,
      "outputs": []
    }
  ]
}